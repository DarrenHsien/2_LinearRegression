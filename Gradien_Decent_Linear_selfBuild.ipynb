{
 "cells": [
  {
   "cell_type": "code",
   "execution_count": 23,
   "metadata": {},
   "outputs": [],
   "source": [
    "import numpy as np\n"
   ]
  },
  {
   "cell_type": "code",
   "execution_count": 24,
   "metadata": {},
   "outputs": [],
   "source": [
    "import pandas as pd\n",
    "import numpy as np\n",
    "import matplotlib.pyplot as plt\n",
    "\n",
    "%matplotlib inline\n",
    "plt.style.use('ggplot')\n",
    "plt.rcParams['font.family']='DFKai-SB' #顯示中文 (for Win10)\n",
    "plt.rcParams['axes.unicode_minus']=False #正常顯示負號\n",
    "\n",
    "pd.set_option(\"display.max_columns\",50) #設定pandas最多顯示出50個欄位資訊\n",
    "\n",
    "df = pd.read_csv('A_LVR_LAND_A.csv', encoding='big5') #台北市"
   ]
  },
  {
   "cell_type": "code",
   "execution_count": 25,
   "metadata": {},
   "outputs": [],
   "source": [
    "# 去除土地和車位兩種交易資料\n",
    "df = df[(df['交易標的']!='土地') & (df['交易標的']!='車位')].reset_index(drop=True)\n",
    "#改成以萬為單位，方便圖表顯示\n",
    "df.loc[:,'總價元'] = df.loc[:,'總價元']/10000 \n",
    "for i in range(len(df)):\n",
    "    df.loc[i,'交易年'] = round(df.loc[i,'交易年月日']/10000)\n",
    "from datetime import datetime\n",
    "now = datetime.now()\n",
    "now.year #(年,月,日,時,分,秒,微秒) ps: 微秒(microseconds)=1/1000000秒\n",
    "for i in range(len(df)):\n",
    "    df.loc[i,'建築完成年'] = round(df.loc[i,'建築完成年月']/10000)\n",
    "    df.loc[i,'屋齡'] = now.year - 1911 - round(df.loc[i,'建築完成年月']/10000)\n",
    "#df.sample(5)"
   ]
  },
  {
   "cell_type": "code",
   "execution_count": 26,
   "metadata": {},
   "outputs": [
    {
     "data": {
      "text/plain": [
       "<matplotlib.axes._subplots.AxesSubplot at 0x20795595cc0>"
      ]
     },
     "execution_count": 26,
     "metadata": {},
     "output_type": "execute_result"
    },
    {
     "data": {
      "image/png": "[encoded data removed]",
      "text/plain": [
       "<Figure size 432x288 with 1 Axes>"
      ]
     },
     "metadata": {},
     "output_type": "display_data"
    }
   ],
   "source": [
    "df = df[['鄉鎮市區','土地移轉總面積平方公尺','建物移轉總面積平方公尺','單價每平方公尺','建物現況格局-房','建物現況格局-廳','建物現況格局-衛','車位移轉總面積平方公尺','車位總價元','屋齡','建築完成年','交易年','總價元']]\n",
    "df_ml = df.dropna().reset_index(drop=True)\n",
    "\n",
    "df_ml = df_ml[df_ml['建物移轉總面積平方公尺']<1000]\n",
    "df_ml.plot(kind='scatter',x='建物移轉總面積平方公尺',y='總價元')"
   ]
  },
  {
   "cell_type": "code",
   "execution_count": 27,
   "metadata": {},
   "outputs": [
    {
     "data": {
      "text/html": [
       "<div>\n",
       "<style scoped>\n",
       "    .dataframe tbody tr th:only-of-type {\n",
       "        vertical-align: middle;\n",
       "    }\n",
       "\n",
       "    .dataframe tbody tr th {\n",
       "        vertical-align: top;\n",
       "    }\n",
       "\n",
       "    .dataframe thead th {\n",
       "        text-align: right;\n",
       "    }\n",
       "</style>\n",
       "<table border=\"1\" class=\"dataframe\">\n",
       "  <thead>\n",
       "    <tr style=\"text-align: right;\">\n",
       "      <th></th>\n",
       "      <th>建物移轉總面積平方公尺</th>\n",
       "    </tr>\n",
       "  </thead>\n",
       "  <tbody>\n",
       "    <tr>\n",
       "      <th>539</th>\n",
       "      <td>29.48</td>\n",
       "    </tr>\n",
       "    <tr>\n",
       "      <th>241</th>\n",
       "      <td>150.67</td>\n",
       "    </tr>\n",
       "    <tr>\n",
       "      <th>454</th>\n",
       "      <td>38.65</td>\n",
       "    </tr>\n",
       "    <tr>\n",
       "      <th>45</th>\n",
       "      <td>132.11</td>\n",
       "    </tr>\n",
       "    <tr>\n",
       "      <th>626</th>\n",
       "      <td>287.77</td>\n",
       "    </tr>\n",
       "  </tbody>\n",
       "</table>\n",
       "</div>"
      ],
      "text/plain": [
       "     建物移轉總面積平方公尺\n",
       "539        29.48\n",
       "241       150.67\n",
       "454        38.65\n",
       "45        132.11\n",
       "626       287.77"
      ]
     },
     "execution_count": 27,
     "metadata": {},
     "output_type": "execute_result"
    }
   ],
   "source": [
    "from sklearn.model_selection import train_test_split\n",
    "\n",
    "X = df_ml[['建物移轉總面積平方公尺']]\n",
    "y = df_ml[['總價元']]\n",
    "\n",
    "X_train, X_test, y_train, y_test = train_test_split(X, y, test_size = 0.3) # 30% for testing, 70% for training\n",
    "X_train.head()"
   ]
  },
  {
   "cell_type": "code",
   "execution_count": 28,
   "metadata": {},
   "outputs": [],
   "source": [
    "from sklearn.preprocessing import StandardScaler\n",
    "sc = StandardScaler()\n",
    "#Compute the mean and std to be used for later scaling.\n",
    "sc.fit(X_train)\n",
    "#Perform standardization by centering and scaling\n",
    "X_train_normalized = sc.transform(X_train)\n",
    "X_test_normalized = sc.transform(X_test)\n",
    "\n"
   ]
  },
  {
   "cell_type": "code",
   "execution_count": 29,
   "metadata": {},
   "outputs": [],
   "source": [
    "def computeCost(X, y, weight=np.array([[0,0]])):\n",
    "    m = y.size\n",
    "    J = 0\n",
    "    h = X.dot(weight)\n",
    "    J = 1/(2*m)*np.sum(np.square(h-y))\n",
    "    return(J)\n",
    "\n",
    "#weight : w0,w1\n",
    "# 初始weight [0,0]\n",
    "def gradientDescent(X, y, weight=np.array([[0,0]]), alpha=0.01, num_iters=1500):\n",
    "    m = y.size\n",
    "    J_history = np.zeros(num_iters)\n",
    "    \n",
    "    for iters in np.arange(num_iters):\n",
    "        h = X.dot(weight)\n",
    "        weight = weight - alpha*(1/m)*(X.T.dot(h-y))\n",
    "        J_history[iters] = computeCost(X, y, weight)\n",
    "    return(weight, J_history)"
   ]
  },
  {
   "cell_type": "raw",
   "metadata": {},
   "source": [
    "X_train_normalized.dot(np.array([[0,0]]))"
   ]
  },
  {
   "cell_type": "code",
   "execution_count": 35,
   "metadata": {},
   "outputs": [
    {
     "name": "stdout",
     "output_type": "stream",
     "text": [
      "<class 'numpy.ndarray'>\n",
      "[[-0.95334348]\n",
      " [ 0.18868842]\n",
      " [-0.86693015]\n",
      " [ 0.01378857]\n",
      " [ 1.48064794]]\n",
      "<class 'numpy.ndarray'>\n",
      "[[ 360.]\n",
      " [1720.]\n",
      " [ 380.]\n",
      " [1620.]\n",
      " [9600.]]\n"
     ]
    }
   ],
   "source": [
    "print(type(X_train_normalized))\n",
    "print(X_train_normalized[:5])\n",
    "print(type(y_train.values))\n",
    "print(y_train.values[:5])"
   ]
  },
  {
   "cell_type": "code",
   "execution_count": 32,
   "metadata": {},
   "outputs": [
    {
     "name": "stdout",
     "output_type": "stream",
     "text": [
      "weight:  [2504.11238731 2504.11238731]\n"
     ]
    },
    {
     "data": {
      "image/png": "[encoded data removed]",
      "text/plain": [
       "<Figure size 720x432 with 1 Axes>"
      ]
     },
     "metadata": {},
     "output_type": "display_data"
    }
   ],
   "source": [
    "# theta for minimized cost J\n",
    "weight , Cost_J = gradientDescent(X_train_normalized, y_train.values)\n",
    "\n",
    "print('weight: ',weight.ravel())\n",
    "plt.figure(figsize=(10,6))\n",
    "plt.plot(Cost_J)\n",
    "plt.ylabel('Cost J')\n",
    "plt.xlabel('Number of Iterations/Steps');"
   ]
  },
  {
   "cell_type": "code",
   "execution_count": null,
   "metadata": {},
   "outputs": [],
   "source": []
  }
 ],
 "metadata": {
  "kernelspec": {
   "display_name": "Python 3",
   "language": "python",
   "name": "python3"
  },
  "language_info": {
   "codemirror_mode": {
    "name": "ipython",
    "version": 3
   },
   "file_extension": ".py",
   "mimetype": "text/x-python",
   "name": "python",
   "nbconvert_exporter": "python",
   "pygments_lexer": "ipython3",
   "version": "3.6.9"
  }
 },
 "nbformat": 4,
 "nbformat_minor": 2
}
